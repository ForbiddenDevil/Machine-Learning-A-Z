{
 "cells": [
  {
   "cell_type": "code",
   "execution_count": 2,
   "metadata": {},
   "outputs": [],
   "source": [
    "# Artificial Neural Network\n",
    "\n",
    "# Installing Theano\n",
    "# pip install --upgrade --no-deps git+git://github.com/Theano/Theano.git\n",
    "\n",
    "# Installing Tensorflow\n",
    "# Install Tensorflow from the website: https://www.tensorflow.org/versions/r0.12/get_started/os_setup.html\n",
    "\n",
    "# Installing Keras\n",
    "# pip install --upgrade keras"
   ]
  },
  {
   "cell_type": "code",
   "execution_count": 3,
   "metadata": {
    "collapsed": true
   },
   "outputs": [],
   "source": [
    "# Importing the libraries\n",
    "import numpy as np\n",
    "import matplotlib.pyplot as plt\n",
    "import pandas as pd"
   ]
  },
  {
   "cell_type": "code",
   "execution_count": 4,
   "metadata": {
    "collapsed": true
   },
   "outputs": [],
   "source": [
    "# Importing the dataset\n",
    "dataset = pd.read_csv('/home/forbidden_devil/Machine Learning A-Z/Part 8 - Deep Learning/Section 39 - Artificial Neural Networks (ANN)/Churn_Modelling.csv')\n",
    "X = dataset.iloc[:, 3:13].values\n",
    "y = dataset.iloc[:, 13].values"
   ]
  },
  {
   "cell_type": "code",
   "execution_count": 5,
   "metadata": {
    "collapsed": true
   },
   "outputs": [],
   "source": [
    "# Encoding categorical data\n",
    "from sklearn.preprocessing import LabelEncoder, OneHotEncoder\n",
    "labelencoder_X_1 = LabelEncoder()\n",
    "X[:, 1] = labelencoder_X_1.fit_transform(X[:, 1])\n",
    "labelencoder_X_2 = LabelEncoder()\n",
    "X[:, 2] = labelencoder_X_2.fit_transform(X[:, 2])\n",
    "onehotencoder = OneHotEncoder(categorical_features = [1])\n",
    "X = onehotencoder.fit_transform(X).toarray()\n",
    "X = X[:, 1:]"
   ]
  },
  {
   "cell_type": "code",
   "execution_count": 6,
   "metadata": {
    "collapsed": true
   },
   "outputs": [],
   "source": [
    "# Splitting the dataset into the Training set and Test set\n",
    "from sklearn.model_selection import train_test_split\n",
    "X_train, X_test, y_train, y_test = train_test_split(X, y, test_size = 0.2, random_state = 0)"
   ]
  },
  {
   "cell_type": "code",
   "execution_count": 7,
   "metadata": {
    "collapsed": true
   },
   "outputs": [],
   "source": [
    "# Feature Scaling\n",
    "from sklearn.preprocessing import StandardScaler\n",
    "sc = StandardScaler()\n",
    "X_train = sc.fit_transform(X_train)\n",
    "X_test = sc.transform(X_test)"
   ]
  },
  {
   "cell_type": "code",
   "execution_count": 8,
   "metadata": {
    "collapsed": true
   },
   "outputs": [],
   "source": [
    "# Importing the Keras libraries and packages\n",
    "import keras\n",
    "from keras.models import Sequential\n",
    "from keras.layers import Dense"
   ]
  },
  {
   "cell_type": "code",
   "execution_count": 9,
   "metadata": {},
   "outputs": [
    {
     "name": "stderr",
     "output_type": "stream",
     "text": [
      "/home/forbidden_devil/anaconda3/lib/python3.6/site-packages/ipykernel_launcher.py:5: UserWarning: Update your `Dense` call to the Keras 2 API: `Dense(activation=\"relu\", input_dim=11, units=6, kernel_initializer=\"uniform\")`\n",
      "  \"\"\"\n",
      "/home/forbidden_devil/anaconda3/lib/python3.6/site-packages/ipykernel_launcher.py:8: UserWarning: Update your `Dense` call to the Keras 2 API: `Dense(activation=\"relu\", units=6, kernel_initializer=\"uniform\")`\n",
      "  \n",
      "/home/forbidden_devil/anaconda3/lib/python3.6/site-packages/ipykernel_launcher.py:11: UserWarning: Update your `Dense` call to the Keras 2 API: `Dense(activation=\"sigmoid\", units=1, kernel_initializer=\"uniform\")`\n",
      "  # This is added back by InteractiveShellApp.init_path()\n"
     ]
    }
   ],
   "source": [
    "# Initialising the ANN\n",
    "classifier = Sequential()\n",
    "\n",
    "# Adding the input layer and the first hidden layer\n",
    "classifier.add(Dense(output_dim = 6, init = 'uniform', activation = 'relu', input_dim = 11))\n",
    "\n",
    "# Adding the second hidden layer\n",
    "classifier.add(Dense(output_dim = 6, init = 'uniform', activation = 'relu'))\n",
    "\n",
    "# Adding the output layer\n",
    "classifier.add(Dense(output_dim = 1, init = 'uniform', activation = 'sigmoid'))"
   ]
  },
  {
   "cell_type": "code",
   "execution_count": 10,
   "metadata": {
    "collapsed": true
   },
   "outputs": [],
   "source": [
    "# Compiling the ANN\n",
    "classifier.compile(optimizer = 'adam', loss = 'binary_crossentropy', metrics = ['accuracy'])"
   ]
  },
  {
   "cell_type": "code",
   "execution_count": 11,
   "metadata": {},
   "outputs": [
    {
     "name": "stderr",
     "output_type": "stream",
     "text": [
      "/home/forbidden_devil/anaconda3/lib/python3.6/site-packages/ipykernel_launcher.py:2: UserWarning: The `nb_epoch` argument in `fit` has been renamed `epochs`.\n",
      "  \n"
     ]
    },
    {
     "name": "stdout",
     "output_type": "stream",
     "text": [
      "Epoch 1/100\n",
      "8000/8000 [==============================] - 1s 130us/step - loss: 0.4789 - acc: 0.7960\n",
      "Epoch 2/100\n",
      "8000/8000 [==============================] - 1s 102us/step - loss: 0.4261 - acc: 0.7974\n",
      "Epoch 3/100\n",
      "8000/8000 [==============================] - 1s 105us/step - loss: 0.4177 - acc: 0.8232\n",
      "Epoch 4/100\n",
      "8000/8000 [==============================] - 1s 98us/step - loss: 0.4127 - acc: 0.8316\n",
      "Epoch 5/100\n",
      "8000/8000 [==============================] - 1s 101us/step - loss: 0.4090 - acc: 0.8340\n",
      "Epoch 6/100\n",
      "8000/8000 [==============================] - 1s 111us/step - loss: 0.4062 - acc: 0.8340\n",
      "Epoch 7/100\n",
      "8000/8000 [==============================] - 1s 100us/step - loss: 0.4045 - acc: 0.8349\n",
      "Epoch 8/100\n",
      "8000/8000 [==============================] - 1s 99us/step - loss: 0.4019 - acc: 0.8355\n",
      "Epoch 9/100\n",
      "8000/8000 [==============================] - 1s 95us/step - loss: 0.4015 - acc: 0.8362\n",
      "Epoch 10/100\n",
      "8000/8000 [==============================] - 1s 91us/step - loss: 0.3997 - acc: 0.8362\n",
      "Epoch 11/100\n",
      "8000/8000 [==============================] - 1s 96us/step - loss: 0.3993 - acc: 0.8354\n",
      "Epoch 12/100\n",
      "8000/8000 [==============================] - 1s 103us/step - loss: 0.3986 - acc: 0.8355\n",
      "Epoch 13/100\n",
      "8000/8000 [==============================] - 1s 92us/step - loss: 0.3981 - acc: 0.8366\n",
      "Epoch 14/100\n",
      "8000/8000 [==============================] - 1s 98us/step - loss: 0.3979 - acc: 0.8357\n",
      "Epoch 15/100\n",
      "8000/8000 [==============================] - 1s 104us/step - loss: 0.3970 - acc: 0.8362\n",
      "Epoch 16/100\n",
      "8000/8000 [==============================] - 1s 103us/step - loss: 0.3965 - acc: 0.8355\n",
      "Epoch 17/100\n",
      "8000/8000 [==============================] - 1s 92us/step - loss: 0.3963 - acc: 0.8362\n",
      "Epoch 18/100\n",
      "8000/8000 [==============================] - 1s 89us/step - loss: 0.3958 - acc: 0.8345\n",
      "Epoch 19/100\n",
      "8000/8000 [==============================] - 1s 98us/step - loss: 0.3960 - acc: 0.8349\n",
      "Epoch 20/100\n",
      "8000/8000 [==============================] - 1s 101us/step - loss: 0.3954 - acc: 0.8349\n",
      "Epoch 21/100\n",
      "8000/8000 [==============================] - 1s 95us/step - loss: 0.3952 - acc: 0.8366\n",
      "Epoch 22/100\n",
      "8000/8000 [==============================] - 1s 89us/step - loss: 0.3950 - acc: 0.8365\n",
      "Epoch 23/100\n",
      "8000/8000 [==============================] - 1s 90us/step - loss: 0.3947 - acc: 0.8370\n",
      "Epoch 24/100\n",
      "8000/8000 [==============================] - 1s 99us/step - loss: 0.3951 - acc: 0.8365\n",
      "Epoch 25/100\n",
      "8000/8000 [==============================] - 1s 93us/step - loss: 0.3939 - acc: 0.8360\n",
      "Epoch 26/100\n",
      "8000/8000 [==============================] - 1s 93us/step - loss: 0.3941 - acc: 0.8362\n",
      "Epoch 27/100\n",
      "8000/8000 [==============================] - 1s 98us/step - loss: 0.3944 - acc: 0.8386\n",
      "Epoch 28/100\n",
      "8000/8000 [==============================] - 1s 98us/step - loss: 0.3948 - acc: 0.8357\n",
      "Epoch 29/100\n",
      "8000/8000 [==============================] - 1s 90us/step - loss: 0.3943 - acc: 0.8369\n",
      "Epoch 30/100\n",
      "8000/8000 [==============================] - 1s 93us/step - loss: 0.3938 - acc: 0.8379\n",
      "Epoch 31/100\n",
      "8000/8000 [==============================] - 1s 96us/step - loss: 0.3943 - acc: 0.8356\n",
      "Epoch 32/100\n",
      "8000/8000 [==============================] - 1s 98us/step - loss: 0.3938 - acc: 0.8362\n",
      "Epoch 33/100\n",
      "8000/8000 [==============================] - 1s 89us/step - loss: 0.3938 - acc: 0.8379\n",
      "Epoch 34/100\n",
      "8000/8000 [==============================] - 1s 94us/step - loss: 0.3933 - acc: 0.8404\n",
      "Epoch 35/100\n",
      "8000/8000 [==============================] - 1s 92us/step - loss: 0.3929 - acc: 0.8400\n",
      "Epoch 36/100\n",
      "8000/8000 [==============================] - 1s 120us/step - loss: 0.3929 - acc: 0.8385\n",
      "Epoch 37/100\n",
      "8000/8000 [==============================] - 1s 91us/step - loss: 0.3924 - acc: 0.8389\n",
      "Epoch 38/100\n",
      "8000/8000 [==============================] - 1s 101us/step - loss: 0.3913 - acc: 0.8386\n",
      "Epoch 39/100\n",
      "8000/8000 [==============================] - 1s 98us/step - loss: 0.3895 - acc: 0.8414\n",
      "Epoch 40/100\n",
      "8000/8000 [==============================] - 1s 107us/step - loss: 0.3877 - acc: 0.8372\n",
      "Epoch 41/100\n",
      "8000/8000 [==============================] - 1s 88us/step - loss: 0.3855 - acc: 0.8396\n",
      "Epoch 42/100\n",
      "8000/8000 [==============================] - 1s 92us/step - loss: 0.3818 - acc: 0.8374\n",
      "Epoch 43/100\n",
      "8000/8000 [==============================] - 1s 92us/step - loss: 0.3773 - acc: 0.8395\n",
      "Epoch 44/100\n",
      "8000/8000 [==============================] - 1s 101us/step - loss: 0.3710 - acc: 0.8420\n",
      "Epoch 45/100\n",
      "8000/8000 [==============================] - 1s 109us/step - loss: 0.3662 - acc: 0.8460\n",
      "Epoch 46/100\n",
      "8000/8000 [==============================] - 1s 114us/step - loss: 0.3617 - acc: 0.8492\n",
      "Epoch 47/100\n",
      "8000/8000 [==============================] - 1s 103us/step - loss: 0.3592 - acc: 0.8506\n",
      "Epoch 48/100\n",
      "8000/8000 [==============================] - 1s 103us/step - loss: 0.3570 - acc: 0.8560\n",
      "Epoch 49/100\n",
      "8000/8000 [==============================] - 1s 105us/step - loss: 0.3557 - acc: 0.8581\n",
      "Epoch 50/100\n",
      "8000/8000 [==============================] - 1s 150us/step - loss: 0.3538 - acc: 0.8591\n",
      "Epoch 51/100\n",
      "8000/8000 [==============================] - 1s 135us/step - loss: 0.3529 - acc: 0.8579\n",
      "Epoch 52/100\n",
      "8000/8000 [==============================] - 1s 133us/step - loss: 0.3523 - acc: 0.8601\n",
      "Epoch 53/100\n",
      "8000/8000 [==============================] - 1s 110us/step - loss: 0.3513 - acc: 0.8590\n",
      "Epoch 54/100\n",
      "8000/8000 [==============================] - 1s 120us/step - loss: 0.3519 - acc: 0.8591\n",
      "Epoch 55/100\n",
      "8000/8000 [==============================] - 1s 105us/step - loss: 0.3503 - acc: 0.8586\n",
      "Epoch 56/100\n",
      "8000/8000 [==============================] - 1s 94us/step - loss: 0.3505 - acc: 0.8595\n",
      "Epoch 57/100\n",
      "8000/8000 [==============================] - 1s 95us/step - loss: 0.3500 - acc: 0.8595\n",
      "Epoch 58/100\n",
      "8000/8000 [==============================] - 1s 96us/step - loss: 0.3505 - acc: 0.8594\n",
      "Epoch 59/100\n",
      "8000/8000 [==============================] - 1s 92us/step - loss: 0.3490 - acc: 0.8616\n",
      "Epoch 60/100\n",
      "8000/8000 [==============================] - 1s 91us/step - loss: 0.3492 - acc: 0.8582\n",
      "Epoch 61/100\n",
      "8000/8000 [==============================] - 1s 94us/step - loss: 0.3483 - acc: 0.8601\n",
      "Epoch 62/100\n",
      "8000/8000 [==============================] - 1s 90us/step - loss: 0.3475 - acc: 0.8594\n",
      "Epoch 63/100\n",
      "8000/8000 [==============================] - 1s 106us/step - loss: 0.3476 - acc: 0.8610\n",
      "Epoch 64/100\n",
      "8000/8000 [==============================] - 1s 110us/step - loss: 0.3474 - acc: 0.8601\n",
      "Epoch 65/100\n",
      "8000/8000 [==============================] - 1s 84us/step - loss: 0.3475 - acc: 0.8612\n",
      "Epoch 66/100\n",
      "8000/8000 [==============================] - 1s 99us/step - loss: 0.3471 - acc: 0.8644\n",
      "Epoch 67/100\n",
      "8000/8000 [==============================] - 1s 75us/step - loss: 0.3472 - acc: 0.8629\n",
      "Epoch 68/100\n",
      "8000/8000 [==============================] - 1s 116us/step - loss: 0.3466 - acc: 0.8604\n",
      "Epoch 69/100\n",
      "8000/8000 [==============================] - 1s 90us/step - loss: 0.3468 - acc: 0.8616\n",
      "Epoch 70/100\n",
      "8000/8000 [==============================] - 1s 120us/step - loss: 0.3464 - acc: 0.8604\n",
      "Epoch 71/100\n",
      "8000/8000 [==============================] - 1s 107us/step - loss: 0.3456 - acc: 0.8615\n",
      "Epoch 72/100\n",
      "8000/8000 [==============================] - 1s 113us/step - loss: 0.3465 - acc: 0.8611\n",
      "Epoch 73/100\n",
      "8000/8000 [==============================] - 1s 122us/step - loss: 0.3461 - acc: 0.8589\n",
      "Epoch 74/100\n",
      "8000/8000 [==============================] - 1s 107us/step - loss: 0.3466 - acc: 0.8596\n",
      "Epoch 75/100\n",
      "8000/8000 [==============================] - 1s 103us/step - loss: 0.3452 - acc: 0.8587\n",
      "Epoch 76/100\n",
      "8000/8000 [==============================] - 1s 103us/step - loss: 0.3455 - acc: 0.8591\n",
      "Epoch 77/100\n",
      "8000/8000 [==============================] - 1s 108us/step - loss: 0.3453 - acc: 0.8624\n",
      "Epoch 78/100\n",
      "8000/8000 [==============================] - 1s 103us/step - loss: 0.3462 - acc: 0.8609\n",
      "Epoch 79/100\n",
      "8000/8000 [==============================] - 1s 102us/step - loss: 0.3458 - acc: 0.8592\n",
      "Epoch 80/100\n",
      "8000/8000 [==============================] - 1s 106us/step - loss: 0.3451 - acc: 0.8596\n",
      "Epoch 81/100\n",
      "8000/8000 [==============================] - 1s 102us/step - loss: 0.3444 - acc: 0.8607\n",
      "Epoch 82/100\n"
     ]
    },
    {
     "name": "stdout",
     "output_type": "stream",
     "text": [
      "8000/8000 [==============================] - 1s 107us/step - loss: 0.3439 - acc: 0.8627\n",
      "Epoch 83/100\n",
      "8000/8000 [==============================] - 1s 107us/step - loss: 0.3444 - acc: 0.8615\n",
      "Epoch 84/100\n",
      "8000/8000 [==============================] - 1s 103us/step - loss: 0.3443 - acc: 0.8615\n",
      "Epoch 85/100\n",
      "8000/8000 [==============================] - 1s 116us/step - loss: 0.3426 - acc: 0.8639\n",
      "Epoch 86/100\n",
      "8000/8000 [==============================] - 1s 110us/step - loss: 0.3433 - acc: 0.8602\n",
      "Epoch 87/100\n",
      "8000/8000 [==============================] - 1s 101us/step - loss: 0.3424 - acc: 0.8599\n",
      "Epoch 88/100\n",
      "8000/8000 [==============================] - 1s 107us/step - loss: 0.3437 - acc: 0.8619\n",
      "Epoch 89/100\n",
      "8000/8000 [==============================] - 1s 117us/step - loss: 0.3431 - acc: 0.8604\n",
      "Epoch 90/100\n",
      "8000/8000 [==============================] - 1s 116us/step - loss: 0.3433 - acc: 0.8602\n",
      "Epoch 91/100\n",
      "8000/8000 [==============================] - 1s 109us/step - loss: 0.3434 - acc: 0.8607\n",
      "Epoch 92/100\n",
      "8000/8000 [==============================] - 1s 122us/step - loss: 0.3429 - acc: 0.8615\n",
      "Epoch 93/100\n",
      "8000/8000 [==============================] - 1s 109us/step - loss: 0.3430 - acc: 0.8605\n",
      "Epoch 94/100\n",
      "8000/8000 [==============================] - 1s 106us/step - loss: 0.3422 - acc: 0.8626\n",
      "Epoch 95/100\n",
      "8000/8000 [==============================] - 1s 109us/step - loss: 0.3426 - acc: 0.8600\n",
      "Epoch 96/100\n",
      "8000/8000 [==============================] - 1s 107us/step - loss: 0.3415 - acc: 0.8612\n",
      "Epoch 97/100\n",
      "8000/8000 [==============================] - 1s 107us/step - loss: 0.3419 - acc: 0.8607\n",
      "Epoch 98/100\n",
      "8000/8000 [==============================] - 1s 107us/step - loss: 0.3417 - acc: 0.8592\n",
      "Epoch 99/100\n",
      "8000/8000 [==============================] - 1s 113us/step - loss: 0.3420 - acc: 0.8625\n",
      "Epoch 100/100\n",
      "8000/8000 [==============================] - 1s 109us/step - loss: 0.3416 - acc: 0.8607\n"
     ]
    },
    {
     "data": {
      "text/plain": [
       "<keras.callbacks.History at 0x7fe3800885c0>"
      ]
     },
     "execution_count": 11,
     "metadata": {},
     "output_type": "execute_result"
    }
   ],
   "source": [
    "# Fitting the ANN to the Training set\n",
    "classifier.fit(X_train, y_train, batch_size = 10, nb_epoch = 100)"
   ]
  },
  {
   "cell_type": "code",
   "execution_count": 12,
   "metadata": {
    "collapsed": true
   },
   "outputs": [],
   "source": [
    "# Predicting the Test set results\n",
    "y_pred = classifier.predict(X_test)\n",
    "y_pred = (y_pred > 0.5)"
   ]
  },
  {
   "cell_type": "code",
   "execution_count": 13,
   "metadata": {},
   "outputs": [
    {
     "data": {
      "text/plain": [
       "array([[1494,  101],\n",
       "       [ 185,  220]])"
      ]
     },
     "execution_count": 13,
     "metadata": {},
     "output_type": "execute_result"
    }
   ],
   "source": [
    "# Making the Confusion Matrix\n",
    "from sklearn.metrics import confusion_matrix\n",
    "cm = confusion_matrix(y_test, y_pred)\n",
    "cm"
   ]
  },
  {
   "cell_type": "code",
   "execution_count": null,
   "metadata": {
    "collapsed": true
   },
   "outputs": [],
   "source": []
  }
 ],
 "metadata": {
  "kernelspec": {
   "display_name": "Python 3",
   "language": "python",
   "name": "python3"
  },
  "language_info": {
   "codemirror_mode": {
    "name": "ipython",
    "version": 3
   },
   "file_extension": ".py",
   "mimetype": "text/x-python",
   "name": "python",
   "nbconvert_exporter": "python",
   "pygments_lexer": "ipython3",
   "version": "3.6.3"
  }
 },
 "nbformat": 4,
 "nbformat_minor": 2
}
