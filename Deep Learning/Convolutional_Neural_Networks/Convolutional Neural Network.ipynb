{
 "cells": [
  {
   "cell_type": "code",
   "execution_count": 1,
   "metadata": {
    "collapsed": true
   },
   "outputs": [],
   "source": [
    "# Convolutional Neural Network\n",
    "\n",
    "# Installing Theano\n",
    "# pip install --upgrade --no-deps git+git://github.com/Theano/Theano.git\n",
    "\n",
    "# Installing Tensorflow\n",
    "# Install Tensorflow from the website: https://www.tensorflow.org/versions/r0.12/get_started/os_setup.html\n",
    "\n",
    "# Installing Keras\n",
    "# pip install --upgrade keras\n",
    "\n",
    "# Dataset link: http://www.superdatascience.com/wp-content/uploads/2017/03/Convolutional-Neural-Networks.zip"
   ]
  },
  {
   "cell_type": "code",
   "execution_count": 2,
   "metadata": {},
   "outputs": [
    {
     "name": "stderr",
     "output_type": "stream",
     "text": [
      "/home/forbidden_devil/anaconda3/lib/python3.6/site-packages/h5py/__init__.py:34: FutureWarning: Conversion of the second argument of issubdtype from `float` to `np.floating` is deprecated. In future, it will be treated as `np.float64 == np.dtype(float).type`.\n",
      "  from ._conv import register_converters as _register_converters\n",
      "Using TensorFlow backend.\n"
     ]
    }
   ],
   "source": [
    "# Importing the Keras libraries and packages\n",
    "from keras.models import Sequential\n",
    "from keras.layers import Convolution2D\n",
    "from keras.layers import MaxPooling2D\n",
    "from keras.layers import Flatten\n",
    "from keras.layers import Dense"
   ]
  },
  {
   "cell_type": "code",
   "execution_count": 3,
   "metadata": {},
   "outputs": [
    {
     "name": "stderr",
     "output_type": "stream",
     "text": [
      "/home/forbidden_devil/anaconda3/lib/python3.6/site-packages/ipykernel_launcher.py:5: UserWarning: Update your `Conv2D` call to the Keras 2 API: `Conv2D(32, (3, 3), input_shape=(64, 64, 3..., activation=\"relu\")`\n",
      "  \"\"\"\n",
      "/home/forbidden_devil/anaconda3/lib/python3.6/site-packages/ipykernel_launcher.py:11: UserWarning: Update your `Conv2D` call to the Keras 2 API: `Conv2D(32, (3, 3), activation=\"relu\")`\n",
      "  # This is added back by InteractiveShellApp.init_path()\n",
      "/home/forbidden_devil/anaconda3/lib/python3.6/site-packages/ipykernel_launcher.py:18: UserWarning: Update your `Dense` call to the Keras 2 API: `Dense(activation=\"relu\", units=128)`\n",
      "/home/forbidden_devil/anaconda3/lib/python3.6/site-packages/ipykernel_launcher.py:19: UserWarning: Update your `Dense` call to the Keras 2 API: `Dense(activation=\"sigmoid\", units=1)`\n"
     ]
    }
   ],
   "source": [
    "# Initialising the CNN\n",
    "classifier = Sequential()\n",
    "\n",
    "# Step 1 - Convolution\n",
    "classifier.add(Convolution2D(32, 3, 3, input_shape = (64, 64, 3), activation = 'relu'))\n",
    "\n",
    "# Step 2 - Pooling\n",
    "classifier.add(MaxPooling2D(pool_size = (2, 2)))\n",
    "\n",
    "# Adding a second convolutional layer\n",
    "classifier.add(Convolution2D(32, 3, 3, activation = 'relu'))\n",
    "classifier.add(MaxPooling2D(pool_size = (2, 2)))\n",
    "\n",
    "# Step 3 - Flattening\n",
    "classifier.add(Flatten())\n",
    "\n",
    "# Step 4 - Full connection\n",
    "classifier.add(Dense(output_dim = 128, activation = 'relu'))\n",
    "classifier.add(Dense(output_dim = 1, activation = 'sigmoid'))\n",
    "\n",
    "# Compiling the CNN\n",
    "classifier.compile(optimizer = 'adam', loss = 'binary_crossentropy', metrics = ['accuracy'])"
   ]
  },
  {
   "cell_type": "code",
   "execution_count": 5,
   "metadata": {},
   "outputs": [
    {
     "name": "stdout",
     "output_type": "stream",
     "text": [
      "Found 8000 images belonging to 2 classes.\n",
      "Found 2000 images belonging to 2 classes.\n"
     ]
    },
    {
     "name": "stderr",
     "output_type": "stream",
     "text": [
      "/home/forbidden_devil/anaconda3/lib/python3.6/site-packages/ipykernel_launcher.py:24: UserWarning: The semantics of the Keras 2 argument `steps_per_epoch` is not the same as the Keras 1 argument `samples_per_epoch`. `steps_per_epoch` is the number of batches to draw from the generator at each epoch. Basically steps_per_epoch = samples_per_epoch/batch_size. Similarly `nb_val_samples`->`validation_steps` and `val_samples`->`steps` arguments have changed. Update your method calls accordingly.\n",
      "/home/forbidden_devil/anaconda3/lib/python3.6/site-packages/ipykernel_launcher.py:24: UserWarning: Update your `fit_generator` call to the Keras 2 API: `fit_generator(<keras_pre..., validation_data=<keras_pre..., steps_per_epoch=250, epochs=25, validation_steps=2000)`\n"
     ]
    },
    {
     "name": "stdout",
     "output_type": "stream",
     "text": [
      "Epoch 1/25\n",
      "250/250 [==============================] - 54s 214ms/step - loss: 0.6700 - acc: 0.5824 - val_loss: 0.6197 - val_acc: 0.6555\n",
      "Epoch 2/25\n",
      "250/250 [==============================] - 56s 225ms/step - loss: 0.5973 - acc: 0.6781 - val_loss: 0.5467 - val_acc: 0.7290\n",
      "Epoch 3/25\n",
      "250/250 [==============================] - 59s 235ms/step - loss: 0.5592 - acc: 0.7105 - val_loss: 0.5535 - val_acc: 0.7275\n",
      "Epoch 4/25\n",
      "250/250 [==============================] - 54s 214ms/step - loss: 0.5368 - acc: 0.7322 - val_loss: 0.5241 - val_acc: 0.7425\n",
      "Epoch 5/25\n",
      "250/250 [==============================] - 53s 212ms/step - loss: 0.5063 - acc: 0.7506 - val_loss: 0.5089 - val_acc: 0.7415\n",
      "Epoch 6/25\n",
      "250/250 [==============================] - 51s 206ms/step - loss: 0.4879 - acc: 0.7589 - val_loss: 0.4905 - val_acc: 0.7670\n",
      "Epoch 7/25\n",
      "250/250 [==============================] - 66s 265ms/step - loss: 0.4820 - acc: 0.7647 - val_loss: 0.4985 - val_acc: 0.7695\n",
      "Epoch 8/25\n",
      "250/250 [==============================] - 69s 277ms/step - loss: 0.4608 - acc: 0.7836 - val_loss: 0.4879 - val_acc: 0.7750\n",
      "Epoch 9/25\n",
      "250/250 [==============================] - 59s 235ms/step - loss: 0.4444 - acc: 0.7913 - val_loss: 0.4637 - val_acc: 0.7825\n",
      "Epoch 10/25\n",
      "250/250 [==============================] - 58s 230ms/step - loss: 0.4381 - acc: 0.7970 - val_loss: 0.4935 - val_acc: 0.7665\n",
      "Epoch 11/25\n",
      "250/250 [==============================] - 68s 271ms/step - loss: 0.4246 - acc: 0.8024 - val_loss: 0.4852 - val_acc: 0.7730\n",
      "Epoch 12/25\n",
      "250/250 [==============================] - 69s 275ms/step - loss: 0.4086 - acc: 0.8109 - val_loss: 0.4640 - val_acc: 0.7825\n",
      "Epoch 13/25\n",
      "250/250 [==============================] - 70s 278ms/step - loss: 0.3944 - acc: 0.8224 - val_loss: 0.4763 - val_acc: 0.7955\n",
      "Epoch 14/25\n",
      "250/250 [==============================] - 68s 272ms/step - loss: 0.3788 - acc: 0.8269 - val_loss: 0.5398 - val_acc: 0.7520\n",
      "Epoch 15/25\n",
      "250/250 [==============================] - 67s 269ms/step - loss: 0.3752 - acc: 0.8332 - val_loss: 0.4622 - val_acc: 0.8035\n",
      "Epoch 16/25\n",
      "250/250 [==============================] - 72s 287ms/step - loss: 0.3564 - acc: 0.8404 - val_loss: 0.4689 - val_acc: 0.7895\n",
      "Epoch 17/25\n",
      "250/250 [==============================] - 71s 284ms/step - loss: 0.3421 - acc: 0.8509 - val_loss: 0.4812 - val_acc: 0.7915\n",
      "Epoch 18/25\n",
      "250/250 [==============================] - 67s 269ms/step - loss: 0.3284 - acc: 0.8550 - val_loss: 0.5087 - val_acc: 0.7920\n",
      "Epoch 19/25\n",
      "250/250 [==============================] - 72s 290ms/step - loss: 0.3222 - acc: 0.8590 - val_loss: 0.4724 - val_acc: 0.7985\n",
      "Epoch 20/25\n",
      "250/250 [==============================] - 61s 245ms/step - loss: 0.3057 - acc: 0.8679 - val_loss: 0.4560 - val_acc: 0.8020\n",
      "Epoch 21/25\n",
      "250/250 [==============================] - 68s 274ms/step - loss: 0.2943 - acc: 0.8759 - val_loss: 0.4872 - val_acc: 0.7975\n",
      "Epoch 22/25\n",
      "250/250 [==============================] - 69s 277ms/step - loss: 0.2850 - acc: 0.8769 - val_loss: 0.4787 - val_acc: 0.7925\n",
      "Epoch 23/25\n",
      "250/250 [==============================] - 67s 268ms/step - loss: 0.2731 - acc: 0.8844 - val_loss: 0.5286 - val_acc: 0.7915\n",
      "Epoch 24/25\n",
      "250/250 [==============================] - 67s 269ms/step - loss: 0.2665 - acc: 0.8825 - val_loss: 0.4976 - val_acc: 0.7945\n",
      "Epoch 25/25\n",
      "250/250 [==============================] - 68s 271ms/step - loss: 0.2623 - acc: 0.8919 - val_loss: 0.4700 - val_acc: 0.7985\n"
     ]
    },
    {
     "data": {
      "text/plain": [
       "<keras.callbacks.History at 0x7f43a98bb978>"
      ]
     },
     "execution_count": 5,
     "metadata": {},
     "output_type": "execute_result"
    }
   ],
   "source": [
    "from keras.preprocessing.image import ImageDataGenerator\n",
    "\n",
    "train_datagen = ImageDataGenerator(rescale = 1./255,\n",
    "                                   shear_range = 0.2,\n",
    "                                   zoom_range = 0.2,\n",
    "                                   horizontal_flip = True)\n",
    "\n",
    "test_datagen = ImageDataGenerator(rescale = 1./255)\n",
    "\n",
    "training_set = train_datagen.flow_from_directory('/home/forbidden_devil/Machine Learning A-Z/Part 8 - Deep Learning/Section 40 - Convolutional Neural Networks (CNN)/dataset/training_set',\n",
    "                                                 target_size = (64, 64),\n",
    "                                                 batch_size = 32,\n",
    "                                                 class_mode = 'binary')\n",
    "\n",
    "test_set = test_datagen.flow_from_directory('/home/forbidden_devil/Machine Learning A-Z/Part 8 - Deep Learning/Section 40 - Convolutional Neural Networks (CNN)/dataset/test_set',\n",
    "                                            target_size = (64, 64),\n",
    "                                            batch_size = 32,\n",
    "                                            class_mode = 'binary')\n",
    "\n",
    "classifier.fit_generator(training_set,\n",
    "                         samples_per_epoch = 8000,\n",
    "                         nb_epoch = 25,\n",
    "                         validation_data = test_set,\n",
    "                         nb_val_samples = 2000)"
   ]
  },
  {
   "cell_type": "code",
   "execution_count": null,
   "metadata": {
    "collapsed": true
   },
   "outputs": [],
   "source": []
  }
 ],
 "metadata": {
  "kernelspec": {
   "display_name": "Python 3",
   "language": "python",
   "name": "python3"
  },
  "language_info": {
   "codemirror_mode": {
    "name": "ipython",
    "version": 3
   },
   "file_extension": ".py",
   "mimetype": "text/x-python",
   "name": "python",
   "nbconvert_exporter": "python",
   "pygments_lexer": "ipython3",
   "version": "3.6.3"
  }
 },
 "nbformat": 4,
 "nbformat_minor": 2
}
